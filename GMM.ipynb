{
 "cells": [
  {
   "cell_type": "markdown",
   "id": "6b608df6",
   "metadata": {},
   "source": [
    "# Bayesian optimization and GMM model experiments\n",
    "Log-likelihood optimization for GMM model can't be done directly with gradient methods.\n",
    "Traditionally some lower bounds are introduced and optimized instead. For example, EM-algorithm was invented in this way.\n",
    "\n",
    "However, it's interesting to try gradient-free methods for optimization. In this tutorial let's challenge BO with this."
   ]
  },
  {
   "cell_type": "markdown",
   "id": "93bcf511",
   "metadata": {},
   "source": [
    "First let's make samples from GMM model. Choose means and covariances randomly."
   ]
  },
  {
   "cell_type": "code",
   "execution_count": 2,
   "id": "378ff7ae",
   "metadata": {},
   "outputs": [
    {
     "name": "stdout",
     "output_type": "stream",
     "text": [
      "[array([0.91406979, 0.63007121]), array([0.73333206, 0.66635096]), array([0.6483029 , 0.90287707])] [array([[2.64283345e-04, 3.61515054e-06],\n",
      "       [3.61515054e-06, 2.00146331e-04]]), array([[0.00257294, 0.00127945],\n",
      "       [0.00127945, 0.00162793]]), array([[0.00190634, 0.00059158],\n",
      "       [0.00059158, 0.00069795]])]\n"
     ]
    }
   ],
   "source": [
    "import numpy as np\n",
    "import scipy\n",
    "\n",
    "def get_cov_2d(lambdas=None, theta=None):\n",
    "    \n",
    "    if lambdas is None and theta is None:\n",
    "        theta = np.random.uniform(0, 2*np.pi)\n",
    "        lambdas = 0.005*np.random.uniform(0, 1, 2)\n",
    "    rt = [[np.cos(theta), -np.sin(theta)],\n",
    "          [np.sin(theta), np.cos(theta)]]\n",
    "    rt = np.array(rt)    \n",
    "    return rt @ np.diag(lambdas) @ rt.T\n",
    "\n",
    "np.random.seed(1023)\n",
    "\n",
    "clusters, dim = 3, 2\n",
    "mean, cov = [], []\n",
    "\n",
    "for i in range(0, clusters):\n",
    "    mean.append(np.random.uniform(0, 1, dim))\n",
    "    cov.append(get_cov_2d())    \n",
    "\n",
    "print(mean, cov)\n",
    "\n",
    "mean, cov = np.array(mean), np.array(cov)\n",
    "samples, size = [], 100\n",
    "\n",
    "for i in range(0, clusters):\n",
    "    for j in range(0, size):\n",
    "        samples.append(np.random.multivariate_normal(mean[i], cov[i]))    \n",
    "        \n",
    "samples = np.array(samples)"
   ]
  },
  {
   "cell_type": "markdown",
   "id": "bb776591",
   "metadata": {},
   "source": [
    "Then plot samples and true model means."
   ]
  },
  {
   "cell_type": "code",
   "execution_count": 3,
   "id": "b5ededbf",
   "metadata": {},
   "outputs": [
    {
     "data": {
      "image/png": "[encoded data removed]",
      "text/plain": [
       "<Figure size 720x720 with 1 Axes>"
      ]
     },
     "metadata": {
      "needs_background": "light"
     },
     "output_type": "display_data"
    }
   ],
   "source": [
    "import matplotlib.pyplot as plt\n",
    "\n",
    "plt.rcParams['figure.figsize'] = [10, 10]\n",
    "\n",
    "fig, ax = plt.subplots()\n",
    "\n",
    "ax.scatter(samples[:, 0], samples[:, 1], color='blue', s=1)\n",
    "ax.scatter(mean[:, 0], mean[:, 1], color='red', s=30)\n",
    "\n",
    "ax.set_xlim((0, 1))\n",
    "ax.set_ylim((0, 1))\n",
    "ax.grid(True)\n",
    "\n",
    "plt.show()\n"
   ]
  },
  {
   "cell_type": "markdown",
   "id": "dfb343ca",
   "metadata": {},
   "source": [
    "Let's create GMMLikelihoodDispatch class for managing parameters substitution into exact log-likelihood function.\n",
    "There is K weights, 2K mean parameters and 3K (pair of eigenvalues and rotation angle), where K is number of clusters.\n",
    "\n",
    "This class should know true parameters and substitute them with input variables when it's required.\n",
    "Also it makes some reparametrization for positive only parameters, like probability weights and covariance eigenvalues."
   ]
  },
  {
   "cell_type": "code",
   "execution_count": 4,
   "id": "cfecbfda",
   "metadata": {},
   "outputs": [],
   "source": [
    "from scipy.stats import multivariate_normal\n",
    "from collections import defaultdict\n",
    "\n",
    "def exact_GMM_log_likelihood(w, mean, cov, samples):\n",
    "    K = w.shape[0]    \n",
    "    inner = np.zeros(len(samples))\n",
    "    \n",
    "    for k in range(0, K):\n",
    "        inner += w[k] * multivariate_normal.pdf(samples, mean[k], cov[k])\n",
    "    \n",
    "    outer = np.sum(np.log(inner))\n",
    "     \n",
    "    if outer < -1e7 or np.isnan(outer):\n",
    "        outer = -1e7\n",
    "\n",
    "    return outer\n",
    "\n",
    "class GMMLikelihoodDispatch:\n",
    "    \n",
    "    def __init__(self, clusters, samples, hints):\n",
    "        self.clusters = clusters\n",
    "        self.samples = samples\n",
    "        self.hints = defaultdict(list, hints)\n",
    "    \n",
    "    def unpack_cov(self, theta):        \n",
    "        theta = np.array(theta)        \n",
    "        cov = theta.reshape(self.clusters, 3)        \n",
    "        cov_ = []\n",
    "        \n",
    "        for j in range(0, self.clusters):\n",
    "            cov_expand = get_cov_2d([cov[j, 0]**2, cov[j, 1]**2], cov[j, 2]) #ensure positive sd\n",
    "            cov_.append(np.array(cov_expand))\n",
    "    \n",
    "        return np.array(cov_)\n",
    "    \n",
    "    def unpack_mean(self, theta):\n",
    "        theta = np.array(theta)\n",
    "        return theta.reshape(self.clusters, 2)\n",
    "        \n",
    "    def unpack_w(self, theta):\n",
    "        theta = np.array(theta)\n",
    "        return theta**2/np.sum(theta**2)\n",
    "        \n",
    "    def process_params(self, d):\n",
    "        params = defaultdict(list, {})\n",
    "        \n",
    "        for k, v in d.items():\n",
    "            label, idx = k.split('_')\n",
    "            params[label].append((v, idx))\n",
    "\n",
    "        for label in params.keys():\n",
    "            params[label] = [item[0] for item in sorted(params[label], key = lambda x: x[1])]\n",
    "\n",
    "        return params\n",
    "\n",
    "    def compute(self, params):\n",
    "        self.unpack(params)        \n",
    "        return exact_GMM_log_likelihood(self.w, self.mean, self.cov, self.samples)\n",
    "    \n",
    "    def unpack(self, params):\n",
    "        params = self.process_params(params)\n",
    "        self.w = self.hints['w'] if len(params['w']) < 1 else self.unpack_w(params['w'])\n",
    "        self.mean = self.hints['mean'] if len(params['mean']) < 1 else self.unpack_mean(params['mean'])\n",
    "        self.cov = self.hints['cov'] if len(params['cov']) < 1 else self.unpack_cov(params['cov'])\n",
    "        return (self.w, self.mean, self.cov)\n",
    "        \n",
    "        "
   ]
  },
  {
   "cell_type": "markdown",
   "id": "44957d49",
   "metadata": {},
   "source": [
    "Let's compute several log-likelihood values for random parameters."
   ]
  },
  {
   "cell_type": "code",
   "execution_count": 5,
   "id": "4cabbcd5",
   "metadata": {
    "scrolled": false
   },
   "outputs": [
    {
     "name": "stdout",
     "output_type": "stream",
     "text": [
      "-1776.8969468398263\n",
      "-2039.2588441543235\n",
      "-2088.1567492425165\n",
      "-2154.682128952763\n",
      "-1802.6280724038875\n",
      "-1859.8991028409293\n",
      "-3537.799855094538\n",
      "-1865.3636386624462\n",
      "-2170.9316681991368\n",
      "-2018.9878581538837\n",
      "981.4677934541686\n"
     ]
    }
   ],
   "source": [
    "hints = {'w': np.ones(clusters)/clusters, 'mean': mean, 'cov': cov}\n",
    "#print(hints)\n",
    "\n",
    "gmm = GMMLikelihoodDispatch(clusters, samples, hints)\n",
    "\n",
    "for i in range(0, 10):\n",
    "    params = {} \n",
    "    \n",
    "    for i in range(0, 3*clusters):\n",
    "        params[f'cov_{i}'] = np.random.uniform(0, 10)\n",
    "    \n",
    "    for i in range(0, clusters):\n",
    "        params[f'w_{i}'] = np.random.uniform(0, 10)\n",
    "   \n",
    "    for i in range(0, 2*clusters):\n",
    "        params[f'mean_{i}'] = np.random.uniform(0, 10)\n",
    "    \n",
    "    #print(params)\n",
    "    \n",
    "    L = gmm.compute(params)\n",
    "    \n",
    "    print(L)        \n",
    "        \n",
    "print(gmm.compute({}))"
   ]
  },
  {
   "cell_type": "markdown",
   "id": "23529c13",
   "metadata": {},
   "source": [
    "Then let's fix true covariances and weights and optimize only centers (2K-dimentional problem). Use BO from bayes_opt package. Compute several trajectories (! it requires time)."
   ]
  },
  {
   "cell_type": "code",
   "execution_count": 6,
   "id": "8f85000d",
   "metadata": {
    "scrolled": false
   },
   "outputs": [
    {
     "name": "stdout",
     "output_type": "stream",
     "text": [
      "[804, 350, 31, 435, 57, 549, 906, 323, 280, 690]\n",
      "seed:  804\n",
      "seed:  350\n",
      "seed:  31\n",
      "seed:  435\n",
      "seed:  57\n",
      "seed:  549\n",
      "seed:  906\n",
      "seed:  323\n",
      "seed:  280\n",
      "seed:  690\n"
     ]
    }
   ],
   "source": [
    "from bayes_opt import BayesianOptimization, UtilityFunction, SequentialDomainReductionTransformer\n",
    "\n",
    "\n",
    "def L_patched(**params):\n",
    "    hints = {'w': np.ones(clusters)/clusters, 'mean': mean, 'cov': cov}\n",
    "    gmm = GMMLikelihoodDispatch(clusters, samples, hints)\n",
    "    return gmm.compute(params)/1e3\n",
    "    \n",
    "\n",
    "def run_experiment(seed):\n",
    "    print('seed: ', seed)\n",
    "\n",
    "    pbounds = {}\n",
    "    '''\n",
    "    for i in range(0, 3*clusters):\n",
    "        pbounds[f'cov_{i}'] = (-10, 10)\n",
    "\n",
    "    for i in range(0, clusters):\n",
    "        pbounds[f'w_{i}'] = (0, 10)\n",
    "    '''\n",
    "    for i in range(0, 2*clusters):\n",
    "        pbounds[f'mean_{i}'] = (0.6, 1)\n",
    "    \n",
    "    acq_function = UtilityFunction(kind=\"ucb\", kappa=0.05)\n",
    "    #bounds_transformer = SequentialDomainReductionTransformer(minimum_window=0.1)\n",
    "\n",
    "    optimizer = BayesianOptimization( f = L_patched, \n",
    "                                      pbounds = pbounds,\n",
    "                                      random_state = seed,\n",
    "                                      allow_duplicate_points=True,\n",
    "                                      verbose=0,\n",
    "                                      #bounds_transformer=bounds_transformer\n",
    "                                    )\n",
    "\n",
    "    rng = np.random.default_rng()\n",
    "    subset_size = 25\n",
    "\n",
    "    for i in range(0, subset_size):\n",
    "        params_test = {}\n",
    "        sample_choice = rng.choice(samples, 3, replace=False)\n",
    "        for j in range(0, 2 * clusters):\n",
    "            params_test[f'mean_{j}'] = sample_choice[j//2, j%2]\n",
    "        optimizer.probe(params=params_test, lazy=True)\n",
    "\n",
    "    optimizer.set_gp_params(alpha=1e-3, n_restarts_optimizer=5)\n",
    "    optimizer.maximize(init_points=0, n_iter=100, acquisition_function=acq_function) #50, 250\n",
    "\n",
    "    #print(optimizer.res)\n",
    "    \n",
    "    res = np.array([item['target'] for item in optimizer.res])\n",
    "    trajectory = np.maximum.accumulate(res)\n",
    "\n",
    "    return optimizer, trajectory\n",
    "\n",
    "seeds = np.random.choice(1000, 10, replace=False).tolist()\n",
    "print(seeds)\n",
    "\n",
    "results, opt_data = [], []\n",
    "\n",
    "for seed in seeds:\n",
    "    opt, trajectory = run_experiment(seed)\n",
    "    \n",
    "    results.append(trajectory)\n",
    "    opt_data.append(opt)\n",
    "    "
   ]
  },
  {
   "cell_type": "code",
   "execution_count": 14,
   "id": "247ae4c4",
   "metadata": {},
   "outputs": [
    {
     "data": {
      "image/png": "[encoded data removed]",
      "text/plain": [
       "<Figure size 1080x1080 with 1 Axes>"
      ]
     },
     "metadata": {
      "needs_background": "light"
     },
     "output_type": "display_data"
    },
    {
     "name": "stdout",
     "output_type": "stream",
     "text": [
      "3\n"
     ]
    }
   ],
   "source": [
    "import matplotlib.pyplot as plt\n",
    "from scipy import stats\n",
    "\n",
    "plt.rcParams['figure.figsize'] = [15, 15]\n",
    "\n",
    "fig, ax = plt.subplots()\n",
    "iters = range(0, len(results[0]))\n",
    "\n",
    "for r in results:\n",
    "    ax.step(iters, r, color='blue', linewidth=0.3)\n",
    "\n",
    "results = np.array(results)\n",
    "#print(results.shape[0])\n",
    "\n",
    "results_mean = np.mean(results, axis=0)\n",
    "results_std = np.std(results, axis=0)\n",
    "\n",
    "ax.step(iters, results_mean, color='blue', linewidth=3)\n",
    "ax.fill_between(iters, \n",
    "                np.min(results, axis=0),\n",
    "                np.max(results, axis=0),\n",
    "                color='blue',\n",
    "                alpha=0.2,\n",
    "                step='pre'\n",
    "               )\n",
    "\n",
    "ax.grid(True)\n",
    "ax.set_ylim((-5, 1.5))\n",
    "\n",
    "plt.show()"
   ]
  },
  {
   "cell_type": "markdown",
   "id": "5a86049f",
   "metadata": {},
   "source": [
    "Now let's plot cluster centers for best trajectory result."
   ]
  },
  {
   "cell_type": "code",
   "execution_count": 18,
   "id": "24f08d0a",
   "metadata": {},
   "outputs": [
    {
     "name": "stdout",
     "output_type": "stream",
     "text": [
      "(array([0.33333333, 0.33333333, 0.33333333]), array([[0.91353909, 0.63211516],\n",
      "       [0.74327504, 0.67271385],\n",
      "       [0.66213979, 0.90685837]]), array([[[2.64283345e-04, 3.61515054e-06],\n",
      "        [3.61515054e-06, 2.00146331e-04]],\n",
      "\n",
      "       [[2.57294327e-03, 1.27945491e-03],\n",
      "        [1.27945491e-03, 1.62793213e-03]],\n",
      "\n",
      "       [[1.90633780e-03, 5.91577522e-04],\n",
      "        [5.91577522e-04, 6.97954468e-04]]]))\n"
     ]
    }
   ],
   "source": [
    "best_pairs = [(results[i][-1], i) for i in range(0, len(results))]\n",
    "best_tr_idx = sorted(best_pairs, key=lambda x: x[0])[-1][1]\n",
    "\n",
    "hints = {'w': np.ones(clusters)/clusters, 'mean': mean, 'cov': cov}\n",
    "#print(hints)\n",
    "\n",
    "gmm = GMMLikelihoodDispatch(clusters, samples, hints)\n",
    "\n",
    "print(p := gmm.unpack(opt_data[best_tr_idx].max['params']))"
   ]
  },
  {
   "cell_type": "code",
   "execution_count": 19,
   "id": "af4e5cc2",
   "metadata": {},
   "outputs": [
    {
     "data": {
      "image/png": "[encoded data removed]",
      "text/plain": [
       "<Figure size 1080x1080 with 1 Axes>"
      ]
     },
     "metadata": {
      "needs_background": "light"
     },
     "output_type": "display_data"
    }
   ],
   "source": [
    "import matplotlib.pyplot as plt\n",
    "from sklearn.mixture import GaussianMixture\n",
    "\n",
    "gm = GaussianMixture(n_components=clusters, random_state=0).fit(samples)\n",
    "\n",
    "plt.rcParams['figure.figsize'] = [15, 15]\n",
    "\n",
    "fig, ax = plt.subplots()\n",
    "\n",
    "ax.scatter(samples[:, 0], samples[:, 1], color='blue', s=1)\n",
    "ax.scatter(mean[:, 0], mean[:, 1], color='red', s=30) # true\n",
    "ax.scatter(p[1][:, 0], p[1][:, 1], color='green', s=30) # BO result\n",
    "ax.scatter(gm.means_[:, 0], gm.means_[:, 1], color='orange', s=30) # sklearn\n",
    "\n",
    "ax.set_xlim((0, 1))\n",
    "ax.set_ylim((0, 1))\n",
    "ax.grid(True)\n",
    "\n",
    "plt.show()"
   ]
  },
  {
   "cell_type": "code",
   "execution_count": null,
   "id": "a395118b",
   "metadata": {},
   "outputs": [],
   "source": []
  }
 ],
 "metadata": {
  "kernelspec": {
   "display_name": "Python 3 (ipykernel)",
   "language": "python",
   "name": "python3"
  },
  "language_info": {
   "codemirror_mode": {
    "name": "ipython",
    "version": 3
   },
   "file_extension": ".py",
   "mimetype": "text/x-python",
   "name": "python",
   "nbconvert_exporter": "python",
   "pygments_lexer": "ipython3",
   "version": "3.8.10"
  }
 },
 "nbformat": 4,
 "nbformat_minor": 5
}
